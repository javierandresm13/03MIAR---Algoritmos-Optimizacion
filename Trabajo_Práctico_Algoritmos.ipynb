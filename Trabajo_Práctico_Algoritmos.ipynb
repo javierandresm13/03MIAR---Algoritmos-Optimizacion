{
  "nbformat": 4,
  "nbformat_minor": 0,
  "metadata": {
    "colab": {
      "provenance": [],
      "include_colab_link": true
    },
    "kernelspec": {
      "name": "python3",
      "display_name": "Python 3"
    }
  },
  "cells": [
    {
      "cell_type": "markdown",
      "metadata": {
        "id": "view-in-github",
        "colab_type": "text"
      },
      "source": [
        "<a href=\"https://colab.research.google.com/github/javierandresm13/03MIAR---Algoritmos-Optimizacion/blob/main/Trabajo_Pr%C3%A1ctico_Algoritmos.ipynb\" target=\"_parent\"><img src=\"https://colab.research.google.com/assets/colab-badge.svg\" alt=\"Open In Colab\"/></a>"
      ]
    },
    {
      "cell_type": "markdown",
      "metadata": {
        "id": "hVbXYX-RfPWh"
      },
      "source": [
        "# Algoritmos de optimización - Trabajo Práctico<br>\n",
        "Nombre y Apellidos: Javier Moreno  <br>\n",
        "Url: https://github.com/.../03MAIR---Algoritmos-de-Optimizacion---/tree/master/TrabajoPractico<br>\n",
        "Google Colab: https://colab.research.google.com/drive/1Bs48ZaPJ3Bnt2ugMPeJqvivE2H0CJcb2?usp=sharing <br>\n",
        "\n",
        "Problema:\n",
        "\n",
        "Organizar los horarios de partidos de una jornada de La Liga<br>\n",
        "\n",
        "\n",
        "## Descripción del problema:\n",
        "\n",
        "Desde la Liga de Fútbol profesional se pretende organizar los horarios de los partidos de liga de cada jornada, diseñar un algoritmo que realice la asignación de los partidos a los horarios de forma que maximice la audiencia.\n",
        "\n",
        "\n",
        "\n",
        "\n",
        "\n",
        "\n",
        "                                        "
      ]
    },
    {
      "cell_type": "markdown",
      "source": [
        "#Modelo\n",
        "- ¿Como represento el espacio de soluciones?\n",
        "- ¿Cual es la función objetivo?\n",
        "- ¿Como implemento las restricciones?"
      ],
      "metadata": {
        "id": "Sbo9IqQtpaHZ"
      }
    },
    {
      "cell_type": "markdown",
      "source": [
        "## Modelo\n",
        "### ¿Cómo se representa el espacio de soluciones?\n",
        "El espacio de soluciones consiste en asignar partidos a horarios disponibles, formando una permutación. Dado que hay más partidos que horarios, se considera un subconjunto igual al número de horarios. Una solución es una lista de partidos asignados, como [(\"Real Madrid\", \"Barcelona\"), (\"Celta\", \"Valencia\"), ...]. El tamaño del espacio de búsqueda se calcula con permutaciones\n",
        "P(n, k) = n! / (n-k)!, lo que puede hacer que encontrar la solución óptima sea difícil computacionalmente.\n",
        "\n",
        "### ¿Cuál es la función objetivo?\n",
        "La función objetivo es maximizar la audiencia total de todos los partidos. Se calcula de la siguiente manera:\n",
        "Audiencia individual del partido: Se determina para cada partido en un horario específico, considerando la categoría de los equipos y el coeficiente del horario.\n",
        "Audiencia total: Es la suma de las audiencias individuales de todos los partidos en la asignación.\n",
        "Penalización por coincidencias: Se aplica una penalización si varios partidos están programados simultáneamente, lo que reduce la audiencia total.\n",
        "\n",
        "### ¿Cómo se implementan las restricciones?\n",
        "La restricción principal es que cada franja horaria solo se puede asignar a un partido. Esto se maneja implícitamente mediante el uso de itertools.permutations, que asegura que cada partido se asigne a una franja horaria única en una permutación dada.\n",
        "\n"
      ],
      "metadata": {
        "id": "qHXtJ9Tc20CM"
      }
    },
    {
      "cell_type": "markdown",
      "source": [],
      "metadata": {
        "id": "67p_vszBposu"
      }
    },
    {
      "cell_type": "markdown",
      "source": [
        "## Paso 1: Definir los datos proporcionados\n",
        "Primero, definimos los horarios, categorías de equipos, audiencia base y coeficientes de reducción:\n"
      ],
      "metadata": {
        "id": "9zgfCZr_dIX9"
      }
    },
    {
      "cell_type": "code",
      "source": [
        "horarios = [\"V20\", \"S12\", \"S16\", \"S18\", \"S20\", \"D12\", \"D16\", \"D18\", \"D20\", \"L20\"]\n",
        "categorias = {\"A\": 3, \"B\": 11, \"C\": 6}\n",
        "audiencia_base = {\n",
        "    (\"A\", \"A\"): 2.0,\n",
        "    (\"A\", \"B\"): 1.3,\n",
        "    (\"A\", \"C\"): 1.0,\n",
        "    (\"B\", \"B\"): 0.9,\n",
        "    (\"B\", \"C\"): 0.75,\n",
        "    (\"C\", \"C\"): 0.47\n",
        "}\n",
        "coeficientes_horarios = {\n",
        "    \"V20\": 0.4, \"S12\": 0.55, \"S16\": 0.7, \"S18\": 0.8, \"S20\": 1.0,\n",
        "    \"D12\": 0.45, \"D16\": 0.75, \"D18\": 0.85, \"D20\": 1.0, \"L20\": 0.4\n",
        "}\n",
        "coeficientes_coincidencia = [0, 0.25, 0.45, 0.60, 0.70, 0.75, 0.78, 0.80, 0.80]\n"
      ],
      "metadata": {
        "id": "ep0RwCxpdDUO"
      },
      "execution_count": null,
      "outputs": []
    },
    {
      "cell_type": "markdown",
      "source": [
        "## Paso 2: Generar todos los partidos posibles\n",
        "Creamos listas de equipos y generamos todas las combinaciones posibles de partidos:"
      ],
      "metadata": {
        "id": "VvEjCvbGdYKU"
      }
    },
    {
      "cell_type": "code",
      "source": [
        "equipos_A = [\"Real Madrid\", \"R. Sociedad\", \"Barcelona\"]\n",
        "equipos_B = [\"Celta\", \"Valencia\", \"Athletic\", \"Villareal\", \"Alavés\", \"Levante\", \"Espanyol\", \"Sevilla\", \"Betis\", \"Atlético\", \"Getafe\"]\n",
        "equipos_C = [\"Mallorca\", \"Eibar\", \"Leganés\", \"Osasuna\", \"Granada\", \"Valladolid\"]\n",
        "\n",
        "partidos = []\n",
        "for equipo1 in equipos_A + equipos_B + equipos_C:\n",
        "    for equipo2 in equipos_A + equipos_B + equipos_C:\n",
        "        if equipo1 < equipo2:  # Evitar duplicados y partidos consigo mismo\n",
        "            categoria1 = 'A' if equipo1 in equipos_A else 'B' if equipo1 in equipos_B else 'C'\n",
        "            categoria2 = 'A' if equipo2 in equipos_A else 'B' if equipo2 in equipos_B else 'C'\n",
        "            partidos.append((equipo1, equipo2, categoria1, categoria2))\n",
        "print(len(partidos))"
      ],
      "metadata": {
        "colab": {
          "base_uri": "https://localhost:8080/"
        },
        "id": "9ZJvQgetdWge",
        "outputId": "2e08db5d-1034-4217-a4f0-abf780d146bc"
      },
      "execution_count": null,
      "outputs": [
        {
          "output_type": "stream",
          "name": "stdout",
          "text": [
            "190\n"
          ]
        }
      ]
    },
    {
      "cell_type": "markdown",
      "source": [
        "## Paso 3: Función para calcular la audiencia de un partido en un horario específico\n",
        "Definimos una función para calcular la audiencia de un partido dado en un horario específico:\n",
        "\n"
      ],
      "metadata": {
        "id": "2FMZaXc5djgt"
      }
    },
    {
      "cell_type": "code",
      "source": [
        "def calcular_audiencia(partido, horario):\n",
        "    equipo1, equipo2, categoria1, categoria2 = partido\n",
        "    base_audiencia = audiencia_base[(categoria1, categoria2)]\n",
        "    coef_horario = coeficientes_horarios[horario]\n",
        "    return base_audiencia * coef_horario"
      ],
      "metadata": {
        "id": "90VsbStydoDb"
      },
      "execution_count": null,
      "outputs": []
    },
    {
      "cell_type": "markdown",
      "source": [
        "## Paso 4: Función para calcular la penalización por coincidencias\n",
        "Definimos una función para calcular la penalización por coincidencias de horarios:"
      ],
      "metadata": {
        "id": "XEaK8FkSdrjm"
      }
    },
    {
      "cell_type": "code",
      "source": [
        "def penalizacion_coincidencias(horarios_asignados):\n",
        "    coincidencias = len(horarios_asignados) - len(set(horarios_asignados))\n",
        "    return coeficientes_coincidencia[coincidencias]"
      ],
      "metadata": {
        "id": "k_DvCTWbdqpc"
      },
      "execution_count": null,
      "outputs": []
    },
    {
      "cell_type": "markdown",
      "source": [
        "## Paso 5: Generar todas las combinaciones posibles de asignación de horarios a partidos\n",
        "Finalmente, generamos todas las combinaciones posibles de asignación de horarios a partidos y calculamos la audiencia total para encontrar la mejor asignación:"
      ],
      "metadata": {
        "id": "RPGowJ5rd2BD"
      }
    },
    {
      "cell_type": "code",
      "source": [
        "import itertools\n",
        "\n",
        "mejor_audiencia_total = -1\n",
        "mejor_asignacion = None\n",
        "\n",
        "for asignacion in itertools.permutations(partidos[:len(horarios)], len(horarios)):\n",
        "    audiencia_total = sum(calcular_audiencia(partido, horario) for partido, horario in zip(asignacion, horarios))\n",
        "    penalizacion = penalizacion_coincidencias(horarios)\n",
        "    audiencia_total *= (1 - penalizacion)\n",
        "\n",
        "    if audiencia_total > mejor_audiencia_total:\n",
        "        mejor_audiencia_total = audiencia_total\n",
        "        mejor_asignacion = asignacion\n",
        "\n",
        "# Mostrar la mejor asignación encontrada\n",
        "for partido, horario in zip(mejor_asignacion, horarios):\n",
        "    print(f\"Partido: {partido[0]} vs {partido[1]} - Horario: {horario}\")\n",
        "\n",
        "print(f\"Audiencia total máxima: {mejor_audiencia_total}\")"
      ],
      "metadata": {
        "colab": {
          "base_uri": "https://localhost:8080/"
        },
        "id": "6WWjiq-Fd5Td",
        "outputId": "b494ca72-06df-4809-e270-84f4e1360fa4"
      },
      "execution_count": null,
      "outputs": [
        {
          "output_type": "stream",
          "name": "stdout",
          "text": [
            "Partido: Real Madrid vs Valladolid - Horario: V20\n",
            "Partido: Real Madrid vs Valencia - Horario: S12\n",
            "Partido: Real Madrid vs Villareal - Horario: S16\n",
            "Partido: Real Madrid vs Sevilla - Horario: S18\n",
            "Partido: R. Sociedad vs Real Madrid - Horario: S20\n",
            "Partido: R. Sociedad vs Valencia - Horario: D12\n",
            "Partido: R. Sociedad vs Villareal - Horario: D16\n",
            "Partido: R. Sociedad vs Sevilla - Horario: D18\n",
            "Partido: Barcelona vs Real Madrid - Horario: D20\n",
            "Partido: R. Sociedad vs Valladolid - Horario: L20\n",
            "Audiencia total máxima: 10.13\n"
          ]
        }
      ]
    },
    {
      "cell_type": "markdown",
      "source": [
        "#Análisis\n",
        "- ¿Que complejidad tiene el problema?. Orden de complejidad y Contabilizar el espacio de soluciones"
      ],
      "metadata": {
        "id": "HZz52wOppp-U"
      }
    },
    {
      "cell_type": "markdown",
      "source": [
        "Análisis de Complejidad\n",
        "\n",
        "Orden de Complejidad:\n",
        "El problema de programar partidos para maximizar la audiencia es una tarea de optimización combinatoria. Implica explorar permutaciones de partidos y horarios. La complejidad está determinada por el número de permutaciones posibles, calculado como:\n",
        "\n",
        "$$\n",
        "P(n, k) = \\frac{n!}{(n-k)!}\n",
        "$$\n",
        "\n",
        "donde $$n$$es el número total de partidos y $$k$$ es el número de franjas horarias. Este problema tiene una complejidad factorial $$ O  \\frac{n!} {( n − k ) !}$$ que aumenta rápidamente, indicando su naturaleza NP-hard.\n",
        "\n",
        "Implicaciones:\n",
        "La complejidad del problema resalta la necesidad de técnicas que exploren eficientemente el espacio de"
      ],
      "metadata": {
        "id": "XRGu72ck9UHr"
      }
    },
    {
      "cell_type": "markdown",
      "source": [
        "#Diseño\n",
        "- ¿Que técnica utilizo? ¿Por qué?"
      ],
      "metadata": {
        "id": "ixEJUwH_pv7M"
      }
    },
    {
      "cell_type": "markdown",
      "source": [
        "La técnica principal utilizada en el código es la generación de permutaciones con itertools.permutations, que permite una exploración exhaustiva de combinaciones de partidos y horarios. Esto maximiza las posibilidades de encontrar la mejor asignación debido a su cobertura amplia de soluciones potenciales. La función es sencilla de implementar y adecuada para el problema, ya que representa naturalmente la disposición de partidos en horarios limitados. Sin embargo, esta técnica puede ser computacionalmente costosa para problemas de gran tamaño, donde se podrían utilizar técnicas más avanzadas para mejorar la eficiencia. En resumen, es eficaz, con escalabilidad limitada."
      ],
      "metadata": {
        "id": "lvji1G2OBMVs"
      }
    }
  ]
}